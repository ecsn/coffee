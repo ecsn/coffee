{
 "cells": [
  {
   "cell_type": "code",
   "execution_count": 1,
   "metadata": {},
   "outputs": [],
   "source": [
    "import pickle\n",
    "import pandas as pd"
   ]
  },
  {
   "cell_type": "code",
   "execution_count": 2,
   "metadata": {},
   "outputs": [],
   "source": [
    "dataset = pd.read_pickle(r'datas/dataset_company_mapping_full') # load dataset"
   ]
  },
  {
   "cell_type": "code",
   "execution_count": 3,
   "metadata": {},
   "outputs": [],
   "source": [
    "E = list(dataset.keys())\n",
    "S = []\n",
    "A = []\n",
    "\n",
    "for entity in E:\n",
    "    schema = dataset[entity]\n",
    "    S.append(schema)\n",
    "    for attribute in schema:\n",
    "        if attribute not in A:\n",
    "            A.append(attribute)"
   ]
  },
  {
   "cell_type": "code",
   "execution_count": 4,
   "metadata": {},
   "outputs": [],
   "source": [
    "Sc = pickle.load(open('output/company_schema', 'rb')) # load the schema class (pipeline output)"
   ]
  },
  {
   "cell_type": "markdown",
   "metadata": {},
   "source": [
    "## Experiment 1"
   ]
  },
  {
   "cell_type": "code",
   "execution_count": 5,
   "metadata": {},
   "outputs": [],
   "source": [
    "def retrival_rate(schemas, schema_class):\n",
    "    soma = 0\n",
    "    for schema in schemas:\n",
    "        recall = len(set(schema).intersection(schema_class))\n",
    "        resultado = recall/len(schema)\n",
    "        soma += resultado\n",
    "    return soma/len(schemas)\n",
    "\n",
    "def relative_size(schemas, schema_class):\n",
    "    return len(schema_class)/len(A)"
   ]
  },
  {
   "cell_type": "code",
   "execution_count": 6,
   "metadata": {},
   "outputs": [
    {
     "name": "stdout",
     "output_type": "stream",
     "text": [
      "RR =  0.752316520561524\n",
      "RS =  0.15\n"
     ]
    }
   ],
   "source": [
    "print('RR = ', retrival_rate(S, Sc))\n",
    "print('RS = ', relative_size(S, Sc))"
   ]
  },
  {
   "cell_type": "markdown",
   "metadata": {},
   "source": [
    "## Experiment 2"
   ]
  },
  {
   "cell_type": "code",
   "execution_count": 7,
   "metadata": {},
   "outputs": [],
   "source": [
    "df = pd.read_csv('reference_schema/Company_mapping.csv', delimiter=';') # load reference_schema"
   ]
  },
  {
   "cell_type": "code",
   "execution_count": 8,
   "metadata": {},
   "outputs": [],
   "source": [
    "dict_reference = {}\n",
    "for i in range(len(df)):\n",
    "    attribute_infobox = df['attribute_infobox'][i]\n",
    "    attribute_mapping = df['attribute_mapping'][i]\n",
    "    dict_reference[attribute_infobox] = attribute_mapping"
   ]
  },
  {
   "cell_type": "code",
   "execution_count": 9,
   "metadata": {},
   "outputs": [],
   "source": [
    "count_item = 0\n",
    "\n",
    "for item in dict_reference.keys():\n",
    "    try:\n",
    "        value = dict_reference[item].split(',')\n",
    "    except:\n",
    "        value = \"NOT FOUND\"\n",
    "    \n",
    "    for attribute in value:\n",
    "        if attribute in Sc:\n",
    "            count_item +=1"
   ]
  },
  {
   "cell_type": "code",
   "execution_count": 10,
   "metadata": {},
   "outputs": [],
   "source": [
    "precision = count_item/len(Sc)\n",
    "recall = count_item/len(dict_reference)\n",
    "f1 = (2*precision*recall)/(precision+recall)"
   ]
  },
  {
   "cell_type": "code",
   "execution_count": 11,
   "metadata": {},
   "outputs": [
    {
     "name": "stdout",
     "output_type": "stream",
     "text": [
      "P =  1.0\n",
      "R =  0.47368421052631576\n",
      "F1 =  0.6428571428571429\n"
     ]
    }
   ],
   "source": [
    "print('P = ', precision)\n",
    "print('R = ', recall)\n",
    "print('F1 = ', f1)"
   ]
  }
 ],
 "metadata": {
  "kernelspec": {
   "display_name": "Python 3",
   "language": "python",
   "name": "python3"
  },
  "language_info": {
   "codemirror_mode": {
    "name": "ipython",
    "version": 3
   },
   "file_extension": ".py",
   "mimetype": "text/x-python",
   "name": "python",
   "nbconvert_exporter": "python",
   "pygments_lexer": "ipython3",
   "version": "3.6.8"
  }
 },
 "nbformat": 4,
 "nbformat_minor": 2
}
